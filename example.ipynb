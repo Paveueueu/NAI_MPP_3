{
 "cells": [
  {
   "metadata": {},
   "cell_type": "markdown",
   "source": "## Data",
   "id": "de3a4dec7082a9a9"
  },
  {
   "metadata": {
    "ExecuteTime": {
     "end_time": "2025-04-13T13:10:46.626583Z",
     "start_time": "2025-04-13T13:10:46.560759Z"
    }
   },
   "cell_type": "code",
   "source": [
    "from src.language_classifier import LanguageClassifier\n",
    "from collections import Counter\n",
    "\n",
    "classifier = LanguageClassifier('./data', 0.1, 0)\n",
    "\n",
    "print(f\"Train set size: {len(classifier.train_data_langs)}\")\n",
    "counts = Counter([c['class'] for c in classifier.train_data_langs])\n",
    "print(f\"Train set classes: {counts}\")\n",
    "\n",
    "print(f\"Test set size: {len(classifier.test_data_langs)}\")\n",
    "counts = Counter([c['class'] for c in classifier.test_data_langs])\n",
    "print(f\"Test set classes: {counts}\")"
   ],
   "id": "92060812d659ecde",
   "outputs": [
    {
     "name": "stdout",
     "output_type": "stream",
     "text": [
      "Train set size: 24\n",
      "Train set classes: Counter({'ANGIELSKI': 8, 'DUŃSKI': 8, 'NIEMIECKI': 8})\n",
      "Test set size: 6\n",
      "Test set classes: Counter({'ANGIELSKI': 2, 'DUŃSKI': 2, 'NIEMIECKI': 2})\n"
     ]
    }
   ],
   "execution_count": 10
  },
  {
   "metadata": {},
   "cell_type": "markdown",
   "source": "## Training",
   "id": "6ea3d8c2b6543a86"
  },
  {
   "metadata": {
    "ExecuteTime": {
     "end_time": "2025-04-13T13:10:46.642737Z",
     "start_time": "2025-04-13T13:10:46.630644Z"
    }
   },
   "cell_type": "code",
   "source": [
    "max_epochs = 100\n",
    "min_accuracy = 95\n",
    "epoch = 1\n",
    "accuracy = 0\n",
    "\n",
    "while epoch <= max_epochs and accuracy < min_accuracy:\n",
    "    print(f\"[[[ EPOCH {epoch} ]]]\")\n",
    "    print(\"Training...\")\n",
    "    classifier.learn_once()\n",
    "    print(\"Testing...\")\n",
    "    test_result = classifier.test_once()\n",
    "\n",
    "    count_correct = 0\n",
    "    for test in test_result:\n",
    "        is_correct = (test['class'] == test['prediction'])\n",
    "        print(f\"[{'CORRECT' if is_correct else 'INCORRECT'}] Testing for {test['class']}; prediction is {test['prediction']}, in '{test['name']}'\")\n",
    "        count_correct += 1 if is_correct else 0\n",
    "\n",
    "    accuracy = 100 * count_correct / len(test_result)\n",
    "    print(f\"[ACCURACY]: {accuracy}\\n\")\n",
    "    epoch += 1"
   ],
   "id": "cde392067a47cf3d",
   "outputs": [
    {
     "name": "stdout",
     "output_type": "stream",
     "text": [
      "[[[ EPOCH 1 ]]]\n",
      "Training...\n",
      "Testing...\n",
      "[INCORRECT] Testing for ANGIELSKI; prediction is NIEMIECKI, in 'Politician'\n",
      "[INCORRECT] Testing for DUŃSKI; prediction is NIEMIECKI, in 'Akkord (musik)'\n",
      "[CORRECT] Testing for NIEMIECKI; prediction is NIEMIECKI, in 'Arthur von Weinberg'\n",
      "[INCORRECT] Testing for ANGIELSKI; prediction is NIEMIECKI, in 'Botany'\n",
      "[INCORRECT] Testing for DUŃSKI; prediction is NIEMIECKI, in 'Kenya'\n",
      "[CORRECT] Testing for NIEMIECKI; prediction is NIEMIECKI, in 'Complex Instruction Set Computer'\n",
      "[ACCURACY]: 33.333333333333336\n",
      "\n",
      "[[[ EPOCH 2 ]]]\n",
      "Training...\n",
      "Testing...\n",
      "[INCORRECT] Testing for ANGIELSKI; prediction is NIEMIECKI, in 'Politician'\n",
      "[INCORRECT] Testing for DUŃSKI; prediction is NIEMIECKI, in 'Akkord (musik)'\n",
      "[CORRECT] Testing for NIEMIECKI; prediction is NIEMIECKI, in 'Arthur von Weinberg'\n",
      "[INCORRECT] Testing for ANGIELSKI; prediction is NIEMIECKI, in 'Botany'\n",
      "[INCORRECT] Testing for DUŃSKI; prediction is NIEMIECKI, in 'Kenya'\n",
      "[CORRECT] Testing for NIEMIECKI; prediction is NIEMIECKI, in 'Complex Instruction Set Computer'\n",
      "[ACCURACY]: 33.333333333333336\n",
      "\n",
      "[[[ EPOCH 3 ]]]\n",
      "Training...\n",
      "Testing...\n",
      "[CORRECT] Testing for ANGIELSKI; prediction is ANGIELSKI, in 'Politician'\n",
      "[INCORRECT] Testing for DUŃSKI; prediction is ANGIELSKI, in 'Akkord (musik)'\n",
      "[CORRECT] Testing for NIEMIECKI; prediction is NIEMIECKI, in 'Arthur von Weinberg'\n",
      "[CORRECT] Testing for ANGIELSKI; prediction is ANGIELSKI, in 'Botany'\n",
      "[INCORRECT] Testing for DUŃSKI; prediction is ANGIELSKI, in 'Kenya'\n",
      "[CORRECT] Testing for NIEMIECKI; prediction is NIEMIECKI, in 'Complex Instruction Set Computer'\n",
      "[ACCURACY]: 66.66666666666667\n",
      "\n",
      "[[[ EPOCH 4 ]]]\n",
      "Training...\n",
      "Testing...\n",
      "[CORRECT] Testing for ANGIELSKI; prediction is ANGIELSKI, in 'Politician'\n",
      "[INCORRECT] Testing for DUŃSKI; prediction is ANGIELSKI, in 'Akkord (musik)'\n",
      "[CORRECT] Testing for NIEMIECKI; prediction is NIEMIECKI, in 'Arthur von Weinberg'\n",
      "[CORRECT] Testing for ANGIELSKI; prediction is ANGIELSKI, in 'Botany'\n",
      "[INCORRECT] Testing for DUŃSKI; prediction is ANGIELSKI, in 'Kenya'\n",
      "[CORRECT] Testing for NIEMIECKI; prediction is NIEMIECKI, in 'Complex Instruction Set Computer'\n",
      "[ACCURACY]: 66.66666666666667\n",
      "\n",
      "[[[ EPOCH 5 ]]]\n",
      "Training...\n",
      "Testing...\n",
      "[CORRECT] Testing for ANGIELSKI; prediction is ANGIELSKI, in 'Politician'\n",
      "[INCORRECT] Testing for DUŃSKI; prediction is ANGIELSKI, in 'Akkord (musik)'\n",
      "[CORRECT] Testing for NIEMIECKI; prediction is NIEMIECKI, in 'Arthur von Weinberg'\n",
      "[CORRECT] Testing for ANGIELSKI; prediction is ANGIELSKI, in 'Botany'\n",
      "[INCORRECT] Testing for DUŃSKI; prediction is ANGIELSKI, in 'Kenya'\n",
      "[CORRECT] Testing for NIEMIECKI; prediction is NIEMIECKI, in 'Complex Instruction Set Computer'\n",
      "[ACCURACY]: 66.66666666666667\n",
      "\n",
      "[[[ EPOCH 6 ]]]\n",
      "Training...\n",
      "Testing...\n",
      "[CORRECT] Testing for ANGIELSKI; prediction is ANGIELSKI, in 'Politician'\n",
      "[INCORRECT] Testing for DUŃSKI; prediction is ANGIELSKI, in 'Akkord (musik)'\n",
      "[CORRECT] Testing for NIEMIECKI; prediction is NIEMIECKI, in 'Arthur von Weinberg'\n",
      "[CORRECT] Testing for ANGIELSKI; prediction is ANGIELSKI, in 'Botany'\n",
      "[INCORRECT] Testing for DUŃSKI; prediction is ANGIELSKI, in 'Kenya'\n",
      "[CORRECT] Testing for NIEMIECKI; prediction is NIEMIECKI, in 'Complex Instruction Set Computer'\n",
      "[ACCURACY]: 66.66666666666667\n",
      "\n",
      "[[[ EPOCH 7 ]]]\n",
      "Training...\n",
      "Testing...\n",
      "[CORRECT] Testing for ANGIELSKI; prediction is ANGIELSKI, in 'Politician'\n",
      "[CORRECT] Testing for DUŃSKI; prediction is DUŃSKI, in 'Akkord (musik)'\n",
      "[CORRECT] Testing for NIEMIECKI; prediction is NIEMIECKI, in 'Arthur von Weinberg'\n",
      "[CORRECT] Testing for ANGIELSKI; prediction is ANGIELSKI, in 'Botany'\n",
      "[CORRECT] Testing for DUŃSKI; prediction is DUŃSKI, in 'Kenya'\n",
      "[CORRECT] Testing for NIEMIECKI; prediction is NIEMIECKI, in 'Complex Instruction Set Computer'\n",
      "[ACCURACY]: 100.0\n",
      "\n"
     ]
    }
   ],
   "execution_count": 11
  },
  {
   "metadata": {},
   "cell_type": "markdown",
   "source": "## User input",
   "id": "1dc1127171381d8c"
  },
  {
   "metadata": {
    "ExecuteTime": {
     "end_time": "2025-04-13T13:10:54.218861Z",
     "start_time": "2025-04-13T13:10:46.660172Z"
    }
   },
   "cell_type": "code",
   "source": [
    "text = input(\"Text to classify: \")\n",
    "import textwrap\n",
    "text = textwrap.fill(text, width=100, subsequent_indent='\\t')\n",
    "print(f\"[TEXT]: {text}\\n\")\n",
    "print(f\"[CLASSIFICATION]: {classifier.predict_class_of_text(text)}\\n\")"
   ],
   "id": "61ff2820869d72eb",
   "outputs": [
    {
     "name": "stdout",
     "output_type": "stream",
     "text": [
      "[TEXT]: In mathematics, Gaussian elimination, also known as row reduction, is an algorithm for solving\n",
      "\tsystems of linear equations. It consists of a sequence of row-wise operations performed on the\n",
      "\tcorresponding matrix of coefficients. This method can also be used to compute the rank of a matrix,\n",
      "\tthe determinant of a square matrix, and the inverse of an invertible matrix. The method is named\n",
      "\tafter Carl Friedrich Gauss (1777–1855). To perform row reduction on a matrix, one uses a sequence\n",
      "\tof elementary row operations to modify the matrix until the lower left-hand corner of the matrix is\n",
      "\tfilled with zeros, as much as possible. There are three types of elementary row operations:\n",
      "\tSwapping two rows,     Multiplying a row by a nonzero number,     Adding a multiple of one row to\n",
      "\tanother row.  Using these operations, a matrix can always be transformed into an upper triangular\n",
      "\tmatrix (possibly bordered by rows or columns of zeros), and in fact one that is in row echelon\n",
      "\tform. Once all of the leading coefficients (the leftmost nonzero entry in each row) are 1, and\n",
      "\tevery column containing a leading coefficient has zeros elsewhere, the matrix is said to be in\n",
      "\treduced row echelon form. This final form is unique; in other words, it is independent of the\n",
      "\tsequence of row operations used. For example, in the following sequence of row operations (where\n",
      "\ttwo elementary operations on different rows are done at the first and third steps), the third and\n",
      "\tfourth matrices are the ones in row echelon form, and the final matrix is the unique reduced row\n",
      "\techelon form. [ 1 3 1 9 1 1 − 1 1 3 11 5 35 ] → [ 1 3 1 9 0 − 2 − 2 − 8 0 2 2 8 ] → [ 1 3 1 9 0 − 2\n",
      "\t− 2 − 8 0 0 0 0 ] → [ 1 0 − 2 − 3 0 1 1 4 0 0 0 0 ] {\\displaystyle\n",
      "\t{\\begin{bmatrix}1&3&1&9\\\\1&1&-1&1\\\\3&11&5&35\\end{bmatrix}}\\to\n",
      "\t{\\begin{bmatrix}1&3&1&9\\\\0&-2&-2&-8\\\\0&2&2&8\\end{bmatrix}}\\to\n",
      "\t{\\begin{bmatrix}1&3&1&9\\\\0&-2&-2&-8\\\\0&0&0&0\\end{bmatrix}}\\to\n",
      "\t{\\begin{bmatrix}1&0&-2&-3\\\\0&1&1&4\\\\0&0&0&0\\end{bmatrix}}}  Using row operations to convert a\n",
      "\tmatrix into reduced row echelon form is sometimes called Gauss–Jordan elimination. In this case,\n",
      "\tthe term Gaussian elimination refers to the process until it has reached its upper triangular, or\n",
      "\t(unreduced) row echelon form. For computational reasons, when solving systems of linear equations,\n",
      "\tit is sometimes preferable to stop row operations before the matrix is completely reduced.\n",
      "\tDefinitions and example of algorithm  The process of row reduction makes use of elementary row\n",
      "\toperations, and can be divided into two parts. The first part (sometimes called forward\n",
      "\telimination) reduces a given system to row echelon form, from which one can tell whether there are\n",
      "\tno solutions, a unique solution, or infinitely many solutions. The second part (sometimes called\n",
      "\tback substitution) continues to use row operations until the solution is found; in other words, it\n",
      "\tputs the matrix into reduced row echelon form.  Another point of view, which turns out to be very\n",
      "\tuseful to analyze the algorithm, is that row reduction produces a matrix decomposition of the\n",
      "\toriginal matrix. The elementary row operations may be viewed as the multiplication on the left of\n",
      "\tthe original matrix by elementary matrices. Alternatively, a sequence of elementary operations that\n",
      "\treduces a single row may be viewed as multiplication by a Frobenius matrix. Then the first part of\n",
      "\tthe algorithm computes an LU decomposition, while the second part writes the original matrix as the\n",
      "\tproduct of a uniquely determined invertible matrix and a uniquely determined reduced row echelon\n",
      "\tmatrix. Row operations  There are three types of elementary row operations which may be performed\n",
      "\ton the rows of a matrix:      Interchanging two rows.     Multiplying a row by a non-zero scalar.\n",
      "\tAdding a scalar multiple of one row to another.  If the matrix is associated to a system of linear\n",
      "\tequations, then these operations do not change the solution set. Therefore, if one's goal is to\n",
      "\tsolve a system of linear equations, then using these row operations could make the problem easier.\n",
      "\tEchelon form Main article: Row echelon form  For each row in a matrix, if the row does not consist\n",
      "\tof only zeros, then the leftmost nonzero entry is called the leading coefficient (or pivot) of that\n",
      "\trow. So if two leading coefficients are in the same column, then a row operation of type 3 could be\n",
      "\tused to make one of those coefficients zero. Then by using the row swapping operation, one can\n",
      "\talways order the rows so that for every non-zero row, the leading coefficient is to the right of\n",
      "\tthe leading coefficient of the row above. If this is the case, then matrix is said to be in row\n",
      "\techelon form. So the lower left part of the matrix contains only zeros, and all of the zero rows\n",
      "\tare below the non-zero rows. The word \"echelon\" is used here because one can roughly think of the\n",
      "\trows being ranked by their size, with the largest being at the top and the smallest being at the\n",
      "\tbottom.  For example, the following matrix is in row echelon form, and its leading coefficients are\n",
      "\tshown in red: [ 0 2 1 − 1 0 0 3 1 0 0 0 0 ] . {\\displaystyle {\\begin{bmatrix}0&\\color {red}{\\mathbf\n",
      "\t{2} }&1&-1\\\\0&0&\\color {red}{\\mathbf {3} }&1\\\\0&0&0&0\\end{bmatrix}}.}  It is in echelon form\n",
      "\tbecause the zero row is at the bottom, and the leading coefficient of the second row (in the third\n",
      "\tcolumn), is to the right of the leading coefficient of the first row (in the second column).  A\n",
      "\tmatrix is said to be in reduced row echelon form if furthermore all of the leading coefficients are\n",
      "\tequal to 1 (which can be achieved by using the elementary row operation of type 2), and in every\n",
      "\tcolumn containing a leading coefficient, all of the other entries in that column are zero (which\n",
      "\tcan be achieved by using elementary row operations of type 3). Example of the algorithm  Suppose\n",
      "\tthe goal is to find and describe the set of solutions to the following system of linear equations:\n",
      "\t2 x + y − z = 8 ( L 1 ) − 3 x − y + 2 z = − 11 ( L 2 ) − 2 x + y + 2 z = − 3 ( L 3 ) {\\displaystyle\n",
      "\t{\\begin{alignedat}{4}2x&{}+{}&y&{}-{}&z&{}={}&8&\\qquad\n",
      "\t(L_{1})\\\\-3x&{}-{}&y&{}+{}&2z&{}={}&-11&\\qquad (L_{2})\\\\-2x&{}+{}&y&{}+{}&2z&{}={}&-3&\\qquad\n",
      "\t(L_{3})\\end{alignedat}}}  The table below is the row reduction process applied simultaneously to\n",
      "\tthe system of equations and its associated augmented matrix. In practice, one does not usually deal\n",
      "\twith the systems in terms of equations, but instead makes use of the augmented matrix, which is\n",
      "\tmore suitable for computer manipulations. The row reduction procedure may be summarized as follows:\n",
      "\teliminate x from all equations below L1, and then eliminate y from all equations below L2. This\n",
      "\twill put the system into triangular form. Then, using back-substitution, each unknown can be solved\n",
      "\tfor.\n",
      "\n",
      "[CLASSIFICATION]: ANGIELSKI\n",
      "\n"
     ]
    }
   ],
   "execution_count": 12
  }
 ],
 "metadata": {
  "kernelspec": {
   "display_name": "Python 3",
   "language": "python",
   "name": "python3"
  },
  "language_info": {
   "codemirror_mode": {
    "name": "ipython",
    "version": 2
   },
   "file_extension": ".py",
   "mimetype": "text/x-python",
   "name": "python",
   "nbconvert_exporter": "python",
   "pygments_lexer": "ipython2",
   "version": "2.7.6"
  }
 },
 "nbformat": 4,
 "nbformat_minor": 5
}
