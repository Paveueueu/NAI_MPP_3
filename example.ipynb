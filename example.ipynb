{
 "cells": [
  {
   "metadata": {},
   "cell_type": "markdown",
   "source": "## Data",
   "id": "de3a4dec7082a9a9"
  },
  {
   "metadata": {
    "ExecuteTime": {
     "end_time": "2025-04-13T13:28:33.222127Z",
     "start_time": "2025-04-13T13:28:33.148912Z"
    }
   },
   "cell_type": "code",
   "source": [
    "from src.language_classifier import LanguageClassifier\n",
    "from collections import Counter\n",
    "\n",
    "classifier = LanguageClassifier('./data', 0.1, 0)\n",
    "\n",
    "print(f\"Train set size: {len(classifier.train_data_langs)}\")\n",
    "counts = Counter([c['class'] for c in classifier.train_data_langs])\n",
    "print(f\"Train set classes: {counts}\")\n",
    "\n",
    "print(f\"Test set size: {len(classifier.test_data_langs)}\")\n",
    "counts = Counter([c['class'] for c in classifier.test_data_langs])\n",
    "print(f\"Test set classes: {counts}\")"
   ],
   "id": "92060812d659ecde",
   "outputs": [
    {
     "name": "stdout",
     "output_type": "stream",
     "text": [
      "Train set size: 24\n",
      "Train set classes: Counter({'ANGIELSKI': 8, 'DUŃSKI': 8, 'NIEMIECKI': 8})\n",
      "Test set size: 6\n",
      "Test set classes: Counter({'ANGIELSKI': 2, 'DUŃSKI': 2, 'NIEMIECKI': 2})\n"
     ]
    }
   ],
   "execution_count": 1
  },
  {
   "metadata": {},
   "cell_type": "markdown",
   "source": "## Training",
   "id": "6ea3d8c2b6543a86"
  },
  {
   "metadata": {
    "ExecuteTime": {
     "end_time": "2025-04-13T13:28:33.252966Z",
     "start_time": "2025-04-13T13:28:33.229730Z"
    }
   },
   "cell_type": "code",
   "source": [
    "max_epochs = 100\n",
    "min_accuracy = 95\n",
    "epoch = 1\n",
    "accuracy = 0\n",
    "\n",
    "while epoch <= max_epochs and accuracy < min_accuracy:\n",
    "    print(f\"[[[ EPOCH {epoch} ]]]\")\n",
    "    print(\"Training...\")\n",
    "    classifier.learn_once()\n",
    "    print(\"Testing...\")\n",
    "    test_result = classifier.test_once()\n",
    "\n",
    "    count_correct = 0\n",
    "    for test in test_result:\n",
    "        is_correct = (test['class'] == test['prediction'])\n",
    "        print(f\"[{'CORRECT' if is_correct else 'INCORRECT'}] Testing for {test['class']}; prediction is {test['prediction']}, in '{test['name']}'\")\n",
    "        count_correct += 1 if is_correct else 0\n",
    "\n",
    "    accuracy = 100 * count_correct / len(test_result)\n",
    "    print(f\"[ACCURACY]: {accuracy}\\n\")\n",
    "    epoch += 1"
   ],
   "id": "cde392067a47cf3d",
   "outputs": [
    {
     "name": "stdout",
     "output_type": "stream",
     "text": [
      "[[[ EPOCH 1 ]]]\n",
      "Training...\n",
      "Testing...\n",
      "[INCORRECT] Testing for ANGIELSKI; prediction is NIEMIECKI, in 'Stylist (magazine)'\n",
      "[INCORRECT] Testing for DUŃSKI; prediction is NIEMIECKI, in 'Patent'\n",
      "[CORRECT] Testing for NIEMIECKI; prediction is NIEMIECKI, in 'Margarita Nelken'\n",
      "[INCORRECT] Testing for ANGIELSKI; prediction is NIEMIECKI, in 'John Horton Conway'\n",
      "[INCORRECT] Testing for DUŃSKI; prediction is NIEMIECKI, in 'Bakterier'\n",
      "[CORRECT] Testing for NIEMIECKI; prediction is NIEMIECKI, in 'Auszeichnung'\n",
      "[ACCURACY]: 33.333333333333336\n",
      "\n",
      "[[[ EPOCH 2 ]]]\n",
      "Training...\n",
      "Testing...\n",
      "[CORRECT] Testing for ANGIELSKI; prediction is ANGIELSKI, in 'Stylist (magazine)'\n",
      "[INCORRECT] Testing for DUŃSKI; prediction is NIEMIECKI, in 'Patent'\n",
      "[CORRECT] Testing for NIEMIECKI; prediction is NIEMIECKI, in 'Margarita Nelken'\n",
      "[CORRECT] Testing for ANGIELSKI; prediction is ANGIELSKI, in 'John Horton Conway'\n",
      "[INCORRECT] Testing for DUŃSKI; prediction is NIEMIECKI, in 'Bakterier'\n",
      "[CORRECT] Testing for NIEMIECKI; prediction is NIEMIECKI, in 'Auszeichnung'\n",
      "[ACCURACY]: 66.66666666666667\n",
      "\n",
      "[[[ EPOCH 3 ]]]\n",
      "Training...\n",
      "Testing...\n",
      "[CORRECT] Testing for ANGIELSKI; prediction is ANGIELSKI, in 'Stylist (magazine)'\n",
      "[INCORRECT] Testing for DUŃSKI; prediction is NIEMIECKI, in 'Patent'\n",
      "[CORRECT] Testing for NIEMIECKI; prediction is NIEMIECKI, in 'Margarita Nelken'\n",
      "[CORRECT] Testing for ANGIELSKI; prediction is ANGIELSKI, in 'John Horton Conway'\n",
      "[CORRECT] Testing for DUŃSKI; prediction is DUŃSKI, in 'Bakterier'\n",
      "[CORRECT] Testing for NIEMIECKI; prediction is NIEMIECKI, in 'Auszeichnung'\n",
      "[ACCURACY]: 83.33333333333333\n",
      "\n",
      "[[[ EPOCH 4 ]]]\n",
      "Training...\n",
      "Testing...\n",
      "[CORRECT] Testing for ANGIELSKI; prediction is ANGIELSKI, in 'Stylist (magazine)'\n",
      "[INCORRECT] Testing for DUŃSKI; prediction is NIEMIECKI, in 'Patent'\n",
      "[CORRECT] Testing for NIEMIECKI; prediction is NIEMIECKI, in 'Margarita Nelken'\n",
      "[CORRECT] Testing for ANGIELSKI; prediction is ANGIELSKI, in 'John Horton Conway'\n",
      "[CORRECT] Testing for DUŃSKI; prediction is DUŃSKI, in 'Bakterier'\n",
      "[CORRECT] Testing for NIEMIECKI; prediction is NIEMIECKI, in 'Auszeichnung'\n",
      "[ACCURACY]: 83.33333333333333\n",
      "\n",
      "[[[ EPOCH 5 ]]]\n",
      "Training...\n",
      "Testing...\n",
      "[CORRECT] Testing for ANGIELSKI; prediction is ANGIELSKI, in 'Stylist (magazine)'\n",
      "[INCORRECT] Testing for DUŃSKI; prediction is NIEMIECKI, in 'Patent'\n",
      "[CORRECT] Testing for NIEMIECKI; prediction is NIEMIECKI, in 'Margarita Nelken'\n",
      "[CORRECT] Testing for ANGIELSKI; prediction is ANGIELSKI, in 'John Horton Conway'\n",
      "[CORRECT] Testing for DUŃSKI; prediction is DUŃSKI, in 'Bakterier'\n",
      "[CORRECT] Testing for NIEMIECKI; prediction is NIEMIECKI, in 'Auszeichnung'\n",
      "[ACCURACY]: 83.33333333333333\n",
      "\n",
      "[[[ EPOCH 6 ]]]\n",
      "Training...\n",
      "Testing...\n",
      "[CORRECT] Testing for ANGIELSKI; prediction is ANGIELSKI, in 'Stylist (magazine)'\n",
      "[INCORRECT] Testing for DUŃSKI; prediction is NIEMIECKI, in 'Patent'\n",
      "[CORRECT] Testing for NIEMIECKI; prediction is NIEMIECKI, in 'Margarita Nelken'\n",
      "[CORRECT] Testing for ANGIELSKI; prediction is ANGIELSKI, in 'John Horton Conway'\n",
      "[CORRECT] Testing for DUŃSKI; prediction is DUŃSKI, in 'Bakterier'\n",
      "[CORRECT] Testing for NIEMIECKI; prediction is NIEMIECKI, in 'Auszeichnung'\n",
      "[ACCURACY]: 83.33333333333333\n",
      "\n",
      "[[[ EPOCH 7 ]]]\n",
      "Training...\n",
      "Testing...\n",
      "[CORRECT] Testing for ANGIELSKI; prediction is ANGIELSKI, in 'Stylist (magazine)'\n",
      "[CORRECT] Testing for DUŃSKI; prediction is DUŃSKI, in 'Patent'\n",
      "[CORRECT] Testing for NIEMIECKI; prediction is NIEMIECKI, in 'Margarita Nelken'\n",
      "[CORRECT] Testing for ANGIELSKI; prediction is ANGIELSKI, in 'John Horton Conway'\n",
      "[CORRECT] Testing for DUŃSKI; prediction is DUŃSKI, in 'Bakterier'\n",
      "[CORRECT] Testing for NIEMIECKI; prediction is NIEMIECKI, in 'Auszeichnung'\n",
      "[ACCURACY]: 100.0\n",
      "\n"
     ]
    }
   ],
   "execution_count": 2
  },
  {
   "metadata": {},
   "cell_type": "markdown",
   "source": "## User input",
   "id": "1dc1127171381d8c"
  },
  {
   "metadata": {
    "ExecuteTime": {
     "end_time": "2025-04-13T13:28:39.614700Z",
     "start_time": "2025-04-13T13:28:33.459959Z"
    }
   },
   "cell_type": "code",
   "source": [
    "text = input(\"Text to classify: \")\n",
    "import textwrap\n",
    "text = textwrap.fill(text, width=100, subsequent_indent='\\t')\n",
    "print(f\"[TEXT]: {text}\\n\")\n",
    "print(f\"[CLASSIFICATION]: {classifier.predict_class_of_text(text)}\\n\")"
   ],
   "id": "61ff2820869d72eb",
   "outputs": [
    {
     "name": "stdout",
     "output_type": "stream",
     "text": [
      "[TEXT]: Perlin noise is a type of gradient noise developed by Ken Perlin in 1983. It has many uses,\n",
      "\tincluding but not limited to: procedurally generating terrain, applying pseudo-random changes to a\n",
      "\tvariable, and assisting in the creation of image textures. It is most commonly implemented in two,\n",
      "\tthree, or four dimensions, but can be defined for any number of dimensions. History  Ken Perlin\n",
      "\tdeveloped Perlin noise in 1983 as a result of his frustration with the \"machine-like\" look of\n",
      "\tcomputer-generated imagery (CGI) at the time.[1] He formally described his findings in a SIGGRAPH\n",
      "\tpaper in 1985 called \"An Image Synthesizer\".[2] He developed it after working on Disney's computer\n",
      "\tanimated sci-fi motion picture Tron (1982) for the animation company Mathematical Applications\n",
      "\tGroup (MAGI).[3] In 1997, Perlin was awarded an Academy Award for Technical Achievement for\n",
      "\tcreating the algorithm, the citation for which read:[4][5][6][7]      To Ken Perlin for the\n",
      "\tdevelopment of Perlin Noise, a technique used to produce natural appearing textures on computer\n",
      "\tgenerated surfaces for motion picture visual effects. The development of Perlin Noise has allowed\n",
      "\tcomputer graphics artists to better represent the complexity of natural phenomena in visual effects\n",
      "\tfor the motion picture industry.  Perlin did not apply for any patents on the algorithm, but in\n",
      "\t2001 he was granted a patent for the use of 3D+ implementations of simplex noise for texture\n",
      "\tsynthesis. Simplex noise has the same purpose, but uses a simpler space-filling grid. Simplex noise\n",
      "\talleviates some of the problems with Perlin's \"classic noise\", among them computational complexity\n",
      "\tand visually-significant directional artifacts.[8] Uses A virtual landscape generated using Perlin\n",
      "\tnoise  Perlin noise is a procedural texture primitive, a type of gradient noise used by visual\n",
      "\teffects artists to increase the appearance of realism in computer graphics.[9] The function has a\n",
      "\tpseudo-random appearance, yet all of its visual details are the same size.[citation needed] This\n",
      "\tproperty allows it to be readily controllable; multiple scaled copies of Perlin noise can be\n",
      "\tinserted into mathematical expressions to create a great variety of procedural textures. Synthetic\n",
      "\ttextures using Perlin noise are often used in CGI to make computer-generated visual elements – such\n",
      "\tas object surfaces, fire, smoke, or clouds – appear more natural, by imitating the controlled\n",
      "\trandom appearance of textures in nature.[9] A virtual organic surface generated with Perlin noise\n",
      "\tIt is also frequently used to generate textures when memory is extremely limited, such as in\n",
      "\tdemos.[10] Its successors, such as fractal noise and simplex noise, have become nearly ubiquitous\n",
      "\tin graphics processing units both for real-time graphics and for non-real-time procedural textures\n",
      "\tin all kinds of computer graphics.  It is frequently used in video games to make procedurally\n",
      "\tgenerated terrain that looks natural. The success is in part due to the hierarchical structuring of\n",
      "\tPerlin noise that mimics naturally occurring hierarchical structures, and therefore also has found\n",
      "\tto be useful in environmental science applications.[11]\n",
      "\n",
      "[CLASSIFICATION]: ANGIELSKI\n",
      "\n"
     ]
    }
   ],
   "execution_count": 3
  }
 ],
 "metadata": {
  "kernelspec": {
   "display_name": "Python 3",
   "language": "python",
   "name": "python3"
  },
  "language_info": {
   "codemirror_mode": {
    "name": "ipython",
    "version": 2
   },
   "file_extension": ".py",
   "mimetype": "text/x-python",
   "name": "python",
   "nbconvert_exporter": "python",
   "pygments_lexer": "ipython2",
   "version": "2.7.6"
  }
 },
 "nbformat": 4,
 "nbformat_minor": 5
}
